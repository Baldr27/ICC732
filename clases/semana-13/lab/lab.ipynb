{
 "cells": [
  {
   "cell_type": "markdown",
   "metadata": {},
   "source": [
    "# Estructura del laboratorio\n",
    "\n",
    "Este laboratorio está conformado por preguntas teóricas de temas vistos en clases y preguntas prácticas (donde se requiere completar código) intercaladas con preguntas de interpretación de resultados y análisis. La parte práctica se divide en: \n",
    "\n",
    "1. Explorar los datos.\n",
    "2. Entrenar un clasificador de 3 maneras:\n",
    "    - Entrenando/Testeando con los mismos datos,\n",
    "    - Dividiendo el dataset en una parte para entrenar y otra para testear, y\n",
    "    - Usando cross-validation. "
   ]
  },
  {
   "cell_type": "markdown",
   "metadata": {},
   "source": [
    "# Teoría"
   ]
  },
  {
   "cell_type": "markdown",
   "metadata": {},
   "source": [
    "#### 1. Describa los componentes principales de un clasificador.\n",
    "\n",
    "**Respuesta:** \n",
    "\n"
   ]
  },
  {
   "cell_type": "markdown",
   "metadata": {},
   "source": [
    "#### 2. Un consultor en minería de datos tiene la siguiente estrategia al momento de enfrentar un problema de clasificación: probar todos los modelos posibles hasta encontrar uno que tenga cero error de entrenamiento. Comente la estrategia del consultor y proponga una estrategia alternativa para evaluar el desempeño de los modelos.\n",
    "\n",
    "**Respuesta:**\n",
    "\n"
   ]
  },
  {
   "cell_type": "markdown",
   "metadata": {},
   "source": [
    "#### 3. El mismo consultor siempre usa la misma métrica para evaluar un modelo: accuracy. Comente la estrategia del consultor y proponga una estrategia alternativa. Considere las distintas opciones sobre el balance de los datos.\n",
    "\n",
    "**Respuesta:** \n",
    "\n"
   ]
  },
  {
   "cell_type": "markdown",
   "metadata": {
    "id": "NKZg9pEFXQWj",
    "pycharm": {}
   },
   "source": [
    "# Parte 1: Explorar los datos"
   ]
  },
  {
   "cell_type": "markdown",
   "metadata": {
    "id": "wjW5R_p5XQWj",
    "pycharm": {}
   },
   "source": [
    "Usaremos el **Wine Dataset**, que viene en scikit-learn. Ejecutaremos la siguiente línea de código para importar la librería que nos permitirá cargarlo"
   ]
  },
  {
   "cell_type": "code",
   "execution_count": null,
   "metadata": {},
   "outputs": [],
   "source": [
    "from sklearn.datasets import load_wine"
   ]
  },
  {
   "cell_type": "markdown",
   "metadata": {
    "id": "B3b92IPxXQWn",
    "pycharm": {}
   },
   "source": [
    "## Pregunta 1.1\n",
    "\n",
    "Cargue los datos e indique lo siguiente:\n",
    "* Tamaño del dataset (cantidad de instancias y atributos). \n",
    "* ¿Cuántas clases hay y cuáles son sus nombres?\n",
    "* ¿Cuántas instancias hay en cada clase?\n",
    "\n",
    "Indique en cada caso cómo obtuvo la respuesta, es decir, adjunte código."
   ]
  },
  {
   "cell_type": "markdown",
   "metadata": {
    "id": "qTwql4e0XQWo",
    "pycharm": {}
   },
   "source": [
    "### Respuesta a pregunta 1.1"
   ]
  },
  {
   "cell_type": "code",
   "execution_count": null,
   "metadata": {},
   "outputs": [],
   "source": []
  },
  {
   "cell_type": "markdown",
   "metadata": {
    "id": "AKH5aB3_XQWs",
    "pycharm": {}
   },
   "source": [
    "## Pregunta 1.2\n",
    "\n",
    "Explique:\n",
    "- ¿Qué hacen las siguientes líneas de código?\n",
    "- ¿Qué nos muestra este gráfico?\n",
    "- ¿Cuáles son las principales observaciones que puede obtener sobre los datos a partir de los gráficos?"
   ]
  },
  {
   "cell_type": "code",
   "execution_count": null,
   "metadata": {},
   "outputs": [],
   "source": [
    "## EJECUTAR ESTE BLOQUE\n",
    "\n",
    "from sklearn.datasets import load_wine\n",
    "import matplotlib.pyplot as plt\n",
    "import seaborn as sns\n",
    "import pandas as pd\n",
    "\n",
    "wine = load_wine()\n",
    "data = pd.DataFrame(data=wine['data'], columns=wine['feature_names'])\n",
    "\n",
    "plt.figure(figsize=(14, 10))\n",
    "sns.heatmap(data.corr(), cmap='viridis', annot=True);"
   ]
  },
  {
   "cell_type": "markdown",
   "metadata": {},
   "source": [
    "### Respuesta a pregunta 1.2\n",
    "\n",
    "\n"
   ]
  },
  {
   "cell_type": "markdown",
   "metadata": {
    "id": "JXcHtXFUXQW1",
    "pycharm": {}
   },
   "source": [
    "# Parte 2: Entrenar/testear clasificadores"
   ]
  },
  {
   "cell_type": "markdown",
   "metadata": {
    "id": "651JYu7VXQW2",
    "pycharm": {}
   },
   "source": [
    "En esta parte useremos el clasificador **Decision Tree**. Veremos distintas formas de usarlo, y vamos a compararlas utilizando diversas métricas. "
   ]
  },
  {
   "cell_type": "markdown",
   "metadata": {
    "id": "s8VK-CJlXADA"
   },
   "source": [
    "## CLASIFICADOR 1"
   ]
  },
  {
   "cell_type": "markdown",
   "metadata": {
    "id": "6HRB6oDBXQW3",
    "pycharm": {}
   },
   "source": [
    "## Pregunta 2.1\n",
    "\n",
    "Usando el siguiente código, complete lo que falta para entrenar el clasificador con los datos cargados (X, y) y hacer una predicción sobre los mismos datos empleando dicho clasificador entrenado. Luego, muestre las métricas de **accuracy**, **precision**, **recall** y **f1-score**."
   ]
  },
  {
   "cell_type": "code",
   "execution_count": null,
   "metadata": {
    "ExecuteTime": {
     "end_time": "2020-09-28T01:11:33.665446Z",
     "start_time": "2020-09-28T01:11:33.559713Z"
    },
    "colab": {
     "base_uri": "https://localhost:8080/"
    },
    "executionInfo": {
     "elapsed": 11065,
     "status": "ok",
     "timestamp": 1620084532531,
     "user": {
      "displayName": "Aymé Arango",
      "photoUrl": "",
      "userId": "07842034733641806658"
     },
     "user_tz": 240
    },
    "id": "TIKF6nyJXQW3",
    "outputId": "01a9ee93-3511-4256-9cff-f1a3324edf26",
    "pycharm": {}
   },
   "outputs": [],
   "source": [
    "## Respuesta a pregunta 2.1\n",
    "\n",
    "from sklearn.tree import DecisionTreeClassifier\n",
    "from sklearn.metrics import accuracy_score\n",
    "from sklearn.metrics import classification_report\n",
    "\n",
    "clf = DecisionTreeClassifier()\n",
    "\n",
    "X = wine.data      ## datos, caracteristicas o features \n",
    "y = wine.target    ## clase para cada instancia anterior\n",
    "\n",
    "# .... COMPLETE ACA\n",
    "\n",
    "\n"
   ]
  },
  {
   "cell_type": "markdown",
   "metadata": {
    "id": "pNEQK4DYXQW6",
    "pycharm": {}
   },
   "source": [
    "## Pregunta 2.2\n",
    "\n",
    "De acuerdo a las métricas obtenidas: \n",
    "\n",
    "1. ¿Qué opina sobre las predicciones? \n",
    "2. ¿Qué problema puede identificar?"
   ]
  },
  {
   "cell_type": "markdown",
   "metadata": {
    "heading_collapsed": true,
    "id": "O9Eu_jn4XQW6",
    "pycharm": {}
   },
   "source": [
    "### Respuesta a pregunta 2.2\n",
    "\n",
    "\n"
   ]
  },
  {
   "cell_type": "markdown",
   "metadata": {
    "id": "ZfTp-Sn3XADF"
   },
   "source": [
    "## CLASIFICADOR 2"
   ]
  },
  {
   "cell_type": "markdown",
   "metadata": {
    "id": "Z4uSWz6fXADG"
   },
   "source": [
    "Ahora lo que haremos será dividir nuestro dataset en 70% entrenar (***training set***) y 30% para testear (***testing set***). Use la función ***train_test_split()*** de *sklearn* y utilice las variables `X_train, X_test, y_train, y_test`."
   ]
  },
  {
   "cell_type": "markdown",
   "metadata": {
    "id": "K2O9O-2HXADG"
   },
   "source": [
    "## Pregunta 2.3\n",
    "\n",
    "Escriba el código necesario para dividir los datos, entrenar el modelo e indicar el **accuracy**, **precision** y **recall** del clasificador. \n",
    "Entrene usando el ***training set*** y pruebe sobre el ***testing set***, en base a la división 70%-30%, respectivamente \n",
    "\n",
    "**NOTA: para dividir el dataset use el parámetro `stratify=y`.**"
   ]
  },
  {
   "cell_type": "code",
   "execution_count": null,
   "metadata": {
    "ExecuteTime": {
     "end_time": "2020-09-28T01:11:33.683493Z",
     "start_time": "2020-09-28T01:11:33.667451Z"
    },
    "colab": {
     "base_uri": "https://localhost:8080/"
    },
    "executionInfo": {
     "elapsed": 11057,
     "status": "ok",
     "timestamp": 1620084532534,
     "user": {
      "displayName": "Aymé Arango",
      "photoUrl": "",
      "userId": "07842034733641806658"
     },
     "user_tz": 240
    },
    "id": "cYvg3e6nXQW9",
    "outputId": "4e494405-7aa6-422d-fbea-5997a475e709",
    "pycharm": {}
   },
   "outputs": [],
   "source": [
    "## Respuesta a pregunta 2.3\n",
    "## Recuerde usar las variables X_train, X_test, y_train, y_test\n",
    "\n",
    "\n"
   ]
  },
  {
   "cell_type": "markdown",
   "metadata": {
    "id": "ynsWofRRXADJ"
   },
   "source": [
    "## Pregunta 2.4\n",
    "\n",
    "Según el resultado obtenido en la pregunta anterior, responda lo siguiente:\n",
    "\n",
    "1. ¿Cuál clasificador tiene peores resultados? ¿Por qué?\n",
    "2. ¿Cuál de las dos formas de entrenar el clasificador prefiere? Justifique su respuesta"
   ]
  },
  {
   "cell_type": "markdown",
   "metadata": {
    "id": "EQx0_vw1XQXC"
   },
   "source": [
    "### Respuesta a pregunta 2.4\n",
    "\n"
   ]
  },
  {
   "cell_type": "markdown",
   "metadata": {
    "id": "tL6TPIutXQXD",
    "pycharm": {}
   },
   "source": [
    "## Pregunta 2.5\n",
    "\n",
    "El siguiente código genera una matriz de confusión de los resultados de clasificación de la pregunta 2.4. Ejecute el bloque completo para visualizar el gráfico. Interprete la matriz y comente sobre cada uno de los valores distintos de 0 en la matriz y describa lo que representa. \n",
    "\n",
    "*Verifique que los resultados que se imprimen concuerden con su respuesta (por el factor aleatorio del estimador). Nota: Para obtener un comportamiento determinista existe el parámetro **random_state**, por ejemplo: clf = DecisionTreeClassifier(random_state=2).* "
   ]
  },
  {
   "cell_type": "code",
   "execution_count": null,
   "metadata": {
    "ExecuteTime": {
     "end_time": "2020-09-28T01:11:33.937783Z",
     "start_time": "2020-09-28T01:11:33.685499Z"
    },
    "colab": {
     "base_uri": "https://localhost:8080/",
     "height": 317
    },
    "executionInfo": {
     "elapsed": 11530,
     "status": "ok",
     "timestamp": 1620084533018,
     "user": {
      "displayName": "Aymé Arango",
      "photoUrl": "",
      "userId": "07842034733641806658"
     },
     "user_tz": 240
    },
    "id": "dQFr-d1mXADK",
    "outputId": "12017597-8607-4bd7-9d0f-7679ee67504f"
   },
   "outputs": [],
   "source": [
    "## EJECUTAR ESTE BLOQUE\n",
    "\n",
    "from sklearn.metrics import confusion_matrix\n",
    "from sklearn.utils.multiclass import unique_labels\n",
    "\n",
    "# Compute confusion matrix. By default is not normalized (normalize=None)\n",
    "# If necessary change 'y_pred' according to your variable name\n",
    "cm = confusion_matrix(y_test, y_pred) \n",
    "\n",
    "# Only use the labels that appear in the data\n",
    "classes = wine.target_names[unique_labels(y_test, y_pred)]\n",
    "\n",
    "df = pd.DataFrame(cm, index = classes, columns = classes)\n",
    "\n",
    "g = sns.heatmap(df, annot=True, cmap=\"Blues\")\n",
    "g.set_yticklabels(g.get_yticklabels(), rotation = 0)\n",
    "\n",
    "plt.title('Confusion matrix \\n')\n",
    "plt.xlabel('Predicted label')\n",
    "plt.ylabel('True label')\n",
    "\n",
    "plt.autoscale()"
   ]
  },
  {
   "cell_type": "markdown",
   "metadata": {
    "id": "EioZq9ZEXQXG",
    "pycharm": {}
   },
   "source": [
    "### Respuesta a pregunta 2.5\n"
   ]
  },
  {
   "cell_type": "markdown",
   "metadata": {
    "id": "8nnZ5QTPXADM"
   },
   "source": [
    "## CLASIFICADOR 3"
   ]
  },
  {
   "cell_type": "markdown",
   "metadata": {
    "id": "XmZSQQSJXADN"
   },
   "source": [
    "Para este clasificador utilizaremos Cross-validation. Con cross-validation, el conjunto de entrenamiento se divide en $k$ conjuntos disjuntos; se entrena sobre los datos correspondientes a $k-1$ de éstos, y se evalúa sobre el conjunto restante. Esto se repite $k$ veces, evaluando siempre sobre un conjunto distinto. Teniendo en cuenta el parámetro $k$, a éste método se le llama $k$-fold cross-validation.\n",
    "\n",
    "El código que está a continuación realizará 10-fold cross-validation usando Decision Tree sobre los datos. La forma de estimar el rendimiento del clasificador es, entre otras cosas, calculando el promedio de todos los k-folds.\n",
    "\n",
    "Además se muestra la predición sobre los datos para testear. "
   ]
  },
  {
   "cell_type": "code",
   "execution_count": null,
   "metadata": {
    "ExecuteTime": {
     "end_time": "2020-09-28T01:11:34.015989Z",
     "start_time": "2020-09-28T01:11:33.939789Z"
    },
    "colab": {
     "base_uri": "https://localhost:8080/"
    },
    "executionInfo": {
     "elapsed": 11522,
     "status": "ok",
     "timestamp": 1620084533021,
     "user": {
      "displayName": "Aymé Arango",
      "photoUrl": "",
      "userId": "07842034733641806658"
     },
     "user_tz": 240
    },
    "id": "gJyyPpzxXQXI",
    "outputId": "6c2dbaaf-0692-4f84-8444-475042b709a6",
    "pycharm": {}
   },
   "outputs": [],
   "source": [
    "## EJECUTAR ESTE BLOQUE\n",
    "\n",
    "from sklearn.model_selection import cross_validate\n",
    "import numpy as np\n",
    "\n",
    "scoring = ['precision_macro', 'recall_macro', 'accuracy', 'f1_macro']\n",
    "cv_results = cross_validate(clf, X, y, cv = 10, scoring = scoring, return_train_score= True)\n",
    "\n",
    "print('Promedio Precision:', np.mean(cv_results['test_precision_macro']))\n",
    "print('Promedio Recall:', np.mean(cv_results['test_recall_macro']))\n",
    "print('Promedio F1-score:', np.mean(cv_results['test_f1_macro']))\n",
    "print('Promedio Accucary:', np.mean(cv_results['test_accuracy']))\n",
    "\n",
    "#Si quisieramos mostrar el resultado de cada k-fold, deberiamos quitar la \n",
    "#funcion np.mean la cual retorna el promedio. Esto mostraría una lista con el resultado de cada fold"
   ]
  },
  {
   "cell_type": "markdown",
   "metadata": {
    "id": "U6_ceSH0XQXK",
    "pycharm": {}
   },
   "source": [
    "## Pregunta 3.1\n",
    "\n",
    "- Compare los valores de las métricas con respecto a lo obtenido en la pregunta 2.4 y comente en qué difieren y por qué.\n",
    "\n",
    "- ¿Qué beneficios tiene emplear cross-validation?"
   ]
  },
  {
   "cell_type": "markdown",
   "metadata": {
    "id": "asJ34Xw1XQXL",
    "pycharm": {}
   },
   "source": [
    "### Respuesta a pregunta 3.1\n",
    "\n",
    "\n"
   ]
  }
 ],
 "metadata": {
  "anaconda-cloud": {},
  "colab": {
   "collapsed_sections": [],
   "name": "PAUTA Tarea 2.ipynb",
   "provenance": []
  },
  "hide_input": false,
  "kernelspec": {
   "display_name": "Python 3 (ipykernel)",
   "language": "python",
   "name": "python3"
  },
  "language_info": {
   "codemirror_mode": {
    "name": "ipython",
    "version": 3
   },
   "file_extension": ".py",
   "mimetype": "text/x-python",
   "name": "python",
   "nbconvert_exporter": "python",
   "pygments_lexer": "ipython3",
   "version": "3.8.16"
  },
  "toc": {
   "base_numbering": 1,
   "nav_menu": {},
   "number_sections": true,
   "sideBar": true,
   "skip_h1_title": false,
   "title_cell": "Table of Contents",
   "title_sidebar": "Contents",
   "toc_cell": false,
   "toc_position": {},
   "toc_section_display": true,
   "toc_window_display": false
  },
  "varInspector": {
   "cols": {
    "lenName": 16,
    "lenType": 16,
    "lenVar": 40
   },
   "kernels_config": {
    "python": {
     "delete_cmd_postfix": "",
     "delete_cmd_prefix": "del ",
     "library": "var_list.py",
     "varRefreshCmd": "print(var_dic_list())"
    },
    "r": {
     "delete_cmd_postfix": ") ",
     "delete_cmd_prefix": "rm(",
     "library": "var_list.r",
     "varRefreshCmd": "cat(var_dic_list()) "
    }
   },
   "types_to_exclude": [
    "module",
    "function",
    "builtin_function_or_method",
    "instance",
    "_Feature"
   ],
   "window_display": false
  }
 },
 "nbformat": 4,
 "nbformat_minor": 4
}
