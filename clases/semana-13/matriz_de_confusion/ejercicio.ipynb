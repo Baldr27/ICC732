{
 "cells": [
  {
   "cell_type": "markdown",
   "metadata": {},
   "source": [
    "\n",
    "### Ejercicio\n",
    "\n",
    "Supongamos que tenemos un conjunto de datos de 50 personas que han sido sometidas a pruebas para determinar si tienen una enfermedad rara (no cáncer). El modelo de clasificación genera las siguientes predicciones:\n",
    "\n",
    "- 20 personas realmente tienen la enfermedad (positivos reales).\n",
    "- 30 personas no tienen la enfermedad (negativos reales).\n",
    "\n",
    "El modelo hace las siguientes predicciones:\n",
    "\n",
    "- Predice correctamente que 15 personas tienen la enfermedad.\n",
    "- Predice incorrectamente que 5 personas tienen la enfermedad (falsos positivos).\n",
    "- Predice incorrectamente que 5 personas no tienen la enfermedad (falsos negativos).\n",
    "- Predice correctamente que 25 personas no tienen la enfermedad.\n",
    "\n"
   ]
  },
  {
   "cell_type": "markdown",
   "metadata": {},
   "source": [
    "### Tabla de Datos Resumidos\n",
    "Aquí tienes una tabla con 10 ejemplos de personas del conjunto de datos, incluyendo sus etiquetas reales y las predicciones del modelo:\n",
    "\n",
    "| ID | Real: Enfermedad | Predicción: Enfermedad |\n",
    "|----|------------------|------------------------|\n",
    "| 1  | Sí               | Sí                     |\n",
    "| 2  | No               | No                     |\n",
    "| 3  | Sí               | Sí                     |\n",
    "| 4  | No               | Sí                     |\n",
    "| 5  | Sí               | No                     |\n",
    "| 6  | No               | No                     |\n",
    "| 7  | Sí               | Sí                     |\n",
    "| 8  | Sí               | Sí                     |\n",
    "| 9  | No               | No                     |\n",
    "| 10 | No               | Sí                     |"
   ]
  },
  {
   "cell_type": "markdown",
   "metadata": {},
   "source": [
    "### Preguntas de Ejercicio\n",
    "\n",
    "1. **Pregunta**: ¿Cuál es la precisión del modelo (accuracy) y qué nos dice sobre el rendimiento general del modelo?\n",
    "\n",
    "2. **Pregunta**: ¿Qué valor tiene la precisión positiva (precision) y por qué es importante en el contexto de la predicción de una enfermedad rara?\n",
    "\n",
    "3. **Pregunta**: ¿Cuál es la sensibilidad (recall) del modelo y cómo afecta a la identificación de los casos reales de la enfermedad?\n",
    "\n",
    "4. **Pregunta**: ¿Qué valor tiene la especificidad (specificity) del modelo y por qué es relevante en la identificación de los casos negativos de la enfermedad?\n",
    "\n",
    "5. **Pregunta**: ¿Qué indica la puntuación F1 (F1 Score) y por qué es útil en este escenario?\n",
    "\n",
    "6. **Pregunta**: ¿Cómo cambiaría la precisión positiva si el modelo tuviera más falsos positivos? ¿Qué impacto tendría esto en el tratamiento de la enfermedad?\n",
    "\n",
    "7. **Pregunta**: ¿Qué métrica sería más relevante si quisiéramos asegurarnos de no pasar por alto ningún caso de la enfermedad (minimizar falsos negativos)?\n",
    "\n",
    "Estas preguntas están diseñadas para ayudar a los estudiantes a practicar el uso de las métricas de la matriz de confusión y comprender su importancia en el contexto de la clasificación de enfermedades."
   ]
  },
  {
   "cell_type": "markdown",
   "metadata": {
    "vscode": {
     "languageId": "plaintext"
    }
   },
   "source": []
  },
  {
   "cell_type": "markdown",
   "metadata": {},
   "source": []
  }
 ],
 "metadata": {
  "language_info": {
   "name": "python"
  }
 },
 "nbformat": 4,
 "nbformat_minor": 2
}
